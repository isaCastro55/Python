{
 "cells": [
  {
   "cell_type": "code",
   "execution_count": 6,
   "metadata": {},
   "outputs": [
    {
     "name": "stdout",
     "output_type": "stream",
     "text": [
      "The room is crowded\n"
     ]
    }
   ],
   "source": [
    "#Three is a crowd\n",
    "def crowd_test(l):\n",
    "    if(len(l)>3):\n",
    "        print(\"The room is crowded\")\n",
    "    \n",
    "l =[\"Isabella\",\"Rodrigo\",\"Josefa\",\"Lauren\"]\n",
    "crowd_test(l)\n",
    "l=l[:2]\n",
    "crowd_test(l)\n"
   ]
  },
  {
   "cell_type": "code",
   "execution_count": 8,
   "metadata": {},
   "outputs": [
    {
     "name": "stdout",
     "output_type": "stream",
     "text": [
      "The room is crowded\n",
      "The room is not very crowded\n"
     ]
    }
   ],
   "source": [
    "#Three is a crowd part 2\n",
    "def crowd_testx(l):\n",
    "    if(len(l)>3):\n",
    "        print(\"The room is crowded\")\n",
    "    else:\n",
    "        print(\"The room is not very crowded\")\n",
    "        \n",
    "l =[\"Isabella\",\"Rodrigo\",\"Josefa\",\"Lauren\"]\n",
    "crowd_testx(l)\n",
    "l=l[:2]\n",
    "crowd_testx(l)\n"
   ]
  },
  {
   "cell_type": "code",
   "execution_count": 21,
   "metadata": {},
   "outputs": [
    {
     "name": "stdout",
     "output_type": "stream",
     "text": [
      "The room is not very crowded\n",
      "The room is not very crowded\n",
      "The room is crowded\n",
      "The room is crowded\n",
      "The room is crowded\n",
      "There is a mob in the room\n",
      "The room is empty\n"
     ]
    }
   ],
   "source": [
    "#Six is a Mob\n",
    "def crowd_testxx(l):\n",
    "    if(len(l)==0):\n",
    "        print(\"The room is empty\")\n",
    "    elif(len(l)>=1 and len(l)<=2):\n",
    "        print(\"The room is not very crowded\")\n",
    "    elif(len(l)>=3 and len(l)<6):\n",
    "        print(\"The room is crowded\")\n",
    "    else:\n",
    "        print(\"There is a mob in the room\")\n",
    "l =[\"Isabella\",\"Rodrigo\",\"Josefa\",\"Lauren\",\"Paula\",\"Carolina\"]\n",
    "m=l[:1]\n",
    "crowd_testxx(m)\n",
    "m=l[:2]\n",
    "crowd_testxx(m)\n",
    "m=l[:3]\n",
    "crowd_testxx(m)\n",
    "m=l[:4]\n",
    "crowd_testxx(m)\n",
    "m=l[:5]\n",
    "crowd_testxx(m)\n",
    "crowd_testxx(l)\n",
    "m=[]\n",
    "crowd_testxx(m)"
   ]
  }
 ],
 "metadata": {
  "kernelspec": {
   "display_name": "Python 3",
   "language": "python",
   "name": "python3"
  },
  "language_info": {
   "codemirror_mode": {
    "name": "ipython",
    "version": 3
   },
   "file_extension": ".py",
   "mimetype": "text/x-python",
   "name": "python",
   "nbconvert_exporter": "python",
   "pygments_lexer": "ipython3",
   "version": "3.8.3"
  }
 },
 "nbformat": 4,
 "nbformat_minor": 4
}
